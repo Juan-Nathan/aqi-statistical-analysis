{
 "cells": [
  {
   "cell_type": "markdown",
   "id": "fa7fbcd4-b361-41c1-a2fa-c6a9a3d45a88",
   "metadata": {},
   "source": [
    "# Statistical Analysis of USA Air Quality Index: Confidence Intervals & Hypothesis Testing"
   ]
  },
  {
   "cell_type": "code",
   "execution_count": 1,
   "id": "3fc56af5-ec5c-4ae1-8412-e48ebebc7106",
   "metadata": {},
   "outputs": [],
   "source": [
    "# Import statements\n",
    "import pandas as pd\n",
    "import numpy as np\n",
    "import seaborn as sns\n",
    "from scipy import stats"
   ]
  },
  {
   "cell_type": "markdown",
   "id": "af9d6af1-5f59-4124-99e9-ebe99bd696fd",
   "metadata": {},
   "source": [
    "## 1. Confidence intervals"
   ]
  },
  {
   "cell_type": "markdown",
   "id": "ce37fe62-050b-4ea0-9144-e0ae6ed8ab2b",
   "metadata": {},
   "source": [
    "### Introduction"
   ]
  },
  {
   "cell_type": "markdown",
   "id": "8006b364-19a3-469c-a53f-cf6bd61b66a6",
   "metadata": {},
   "source": [
    "The Air Quality Index (AQI) is the Environmental Protection Agency's index for reporting air quality. A value close to 0 signals little to no public health concern, while higher values are associated with increased risk to public health. The United States is considering a new federal policy that would create a subsidy for renewable energy in states observing an average AQI of 10 or above.\n",
    "\n",
    "In this case, we've just started our new role as a data analyst in the Strategy division of Ripple Renewable Energy (RRE). RRE operates in the following U.S. states: **`California`, `Florida`, `Michigan`, `Ohio`, `Pennsylvania`, `Texas`.** We've been tasked with constructing an analysis which identifies which of these states are most likely to be affected, should the new federal policy be enacted.\n",
    "\n",
    "We will be working with a dataset that gives AQI measurements by state over time."
   ]
  },
  {
   "cell_type": "code",
   "execution_count": 2,
   "id": "842683a8-a8ba-4df2-b4a9-e42be1af4852",
   "metadata": {},
   "outputs": [],
   "source": [
    "# Read in the dataset\n",
    "aqi = pd.read_csv('c4_epa_air_quality.csv')"
   ]
  },
  {
   "cell_type": "markdown",
   "id": "8f7e1d4c-3d2f-4a9d-8eb8-823c5818b3d3",
   "metadata": {},
   "source": [
    "#### Exploring the dataset"
   ]
  },
  {
   "cell_type": "code",
   "execution_count": 3,
   "id": "082f0e86-61ff-407c-9093-ddfcb1398cd1",
   "metadata": {},
   "outputs": [
    {
     "data": {
      "text/html": [
       "<div>\n",
       "<style scoped>\n",
       "    .dataframe tbody tr th:only-of-type {\n",
       "        vertical-align: middle;\n",
       "    }\n",
       "\n",
       "    .dataframe tbody tr th {\n",
       "        vertical-align: top;\n",
       "    }\n",
       "\n",
       "    .dataframe thead th {\n",
       "        text-align: right;\n",
       "    }\n",
       "</style>\n",
       "<table border=\"1\" class=\"dataframe\">\n",
       "  <thead>\n",
       "    <tr style=\"text-align: right;\">\n",
       "      <th></th>\n",
       "      <th>Unnamed: 0</th>\n",
       "      <th>date_local</th>\n",
       "      <th>state_name</th>\n",
       "      <th>county_name</th>\n",
       "      <th>city_name</th>\n",
       "      <th>local_site_name</th>\n",
       "      <th>parameter_name</th>\n",
       "      <th>units_of_measure</th>\n",
       "      <th>arithmetic_mean</th>\n",
       "      <th>aqi</th>\n",
       "    </tr>\n",
       "  </thead>\n",
       "  <tbody>\n",
       "    <tr>\n",
       "      <th>0</th>\n",
       "      <td>0</td>\n",
       "      <td>2018-01-01</td>\n",
       "      <td>Arizona</td>\n",
       "      <td>Maricopa</td>\n",
       "      <td>Buckeye</td>\n",
       "      <td>BUCKEYE</td>\n",
       "      <td>Carbon monoxide</td>\n",
       "      <td>Parts per million</td>\n",
       "      <td>0.473684</td>\n",
       "      <td>7</td>\n",
       "    </tr>\n",
       "    <tr>\n",
       "      <th>1</th>\n",
       "      <td>1</td>\n",
       "      <td>2018-01-01</td>\n",
       "      <td>Ohio</td>\n",
       "      <td>Belmont</td>\n",
       "      <td>Shadyside</td>\n",
       "      <td>Shadyside</td>\n",
       "      <td>Carbon monoxide</td>\n",
       "      <td>Parts per million</td>\n",
       "      <td>0.263158</td>\n",
       "      <td>5</td>\n",
       "    </tr>\n",
       "    <tr>\n",
       "      <th>2</th>\n",
       "      <td>2</td>\n",
       "      <td>2018-01-01</td>\n",
       "      <td>Wyoming</td>\n",
       "      <td>Teton</td>\n",
       "      <td>Not in a city</td>\n",
       "      <td>Yellowstone National Park - Old Faithful Snow ...</td>\n",
       "      <td>Carbon monoxide</td>\n",
       "      <td>Parts per million</td>\n",
       "      <td>0.111111</td>\n",
       "      <td>2</td>\n",
       "    </tr>\n",
       "    <tr>\n",
       "      <th>3</th>\n",
       "      <td>3</td>\n",
       "      <td>2018-01-01</td>\n",
       "      <td>Pennsylvania</td>\n",
       "      <td>Philadelphia</td>\n",
       "      <td>Philadelphia</td>\n",
       "      <td>North East Waste (NEW)</td>\n",
       "      <td>Carbon monoxide</td>\n",
       "      <td>Parts per million</td>\n",
       "      <td>0.300000</td>\n",
       "      <td>3</td>\n",
       "    </tr>\n",
       "    <tr>\n",
       "      <th>4</th>\n",
       "      <td>4</td>\n",
       "      <td>2018-01-01</td>\n",
       "      <td>Iowa</td>\n",
       "      <td>Polk</td>\n",
       "      <td>Des Moines</td>\n",
       "      <td>CARPENTER</td>\n",
       "      <td>Carbon monoxide</td>\n",
       "      <td>Parts per million</td>\n",
       "      <td>0.215789</td>\n",
       "      <td>3</td>\n",
       "    </tr>\n",
       "  </tbody>\n",
       "</table>\n",
       "</div>"
      ],
      "text/plain": [
       "   Unnamed: 0  date_local    state_name   county_name      city_name  \\\n",
       "0           0  2018-01-01       Arizona      Maricopa        Buckeye   \n",
       "1           1  2018-01-01          Ohio       Belmont      Shadyside   \n",
       "2           2  2018-01-01       Wyoming         Teton  Not in a city   \n",
       "3           3  2018-01-01  Pennsylvania  Philadelphia   Philadelphia   \n",
       "4           4  2018-01-01          Iowa          Polk     Des Moines   \n",
       "\n",
       "                                     local_site_name   parameter_name  \\\n",
       "0                                            BUCKEYE  Carbon monoxide   \n",
       "1                                          Shadyside  Carbon monoxide   \n",
       "2  Yellowstone National Park - Old Faithful Snow ...  Carbon monoxide   \n",
       "3                             North East Waste (NEW)  Carbon monoxide   \n",
       "4                                          CARPENTER  Carbon monoxide   \n",
       "\n",
       "    units_of_measure  arithmetic_mean  aqi  \n",
       "0  Parts per million         0.473684    7  \n",
       "1  Parts per million         0.263158    5  \n",
       "2  Parts per million         0.111111    2  \n",
       "3  Parts per million         0.300000    3  \n",
       "4  Parts per million         0.215789    3  "
      ]
     },
     "execution_count": 3,
     "metadata": {},
     "output_type": "execute_result"
    }
   ],
   "source": [
    "aqi.head()"
   ]
  },
  {
   "cell_type": "code",
   "execution_count": 4,
   "id": "1e2ecbe9-3881-40df-b063-983016bcf585",
   "metadata": {},
   "outputs": [
    {
     "data": {
      "text/html": [
       "<div>\n",
       "<style scoped>\n",
       "    .dataframe tbody tr th:only-of-type {\n",
       "        vertical-align: middle;\n",
       "    }\n",
       "\n",
       "    .dataframe tbody tr th {\n",
       "        vertical-align: top;\n",
       "    }\n",
       "\n",
       "    .dataframe thead th {\n",
       "        text-align: right;\n",
       "    }\n",
       "</style>\n",
       "<table border=\"1\" class=\"dataframe\">\n",
       "  <thead>\n",
       "    <tr style=\"text-align: right;\">\n",
       "      <th></th>\n",
       "      <th>Unnamed: 0</th>\n",
       "      <th>date_local</th>\n",
       "      <th>state_name</th>\n",
       "      <th>county_name</th>\n",
       "      <th>city_name</th>\n",
       "      <th>local_site_name</th>\n",
       "      <th>parameter_name</th>\n",
       "      <th>units_of_measure</th>\n",
       "      <th>arithmetic_mean</th>\n",
       "      <th>aqi</th>\n",
       "    </tr>\n",
       "  </thead>\n",
       "  <tbody>\n",
       "    <tr>\n",
       "      <th>count</th>\n",
       "      <td>260.000000</td>\n",
       "      <td>260</td>\n",
       "      <td>260</td>\n",
       "      <td>260</td>\n",
       "      <td>260</td>\n",
       "      <td>257</td>\n",
       "      <td>260</td>\n",
       "      <td>260</td>\n",
       "      <td>260.000000</td>\n",
       "      <td>260.000000</td>\n",
       "    </tr>\n",
       "    <tr>\n",
       "      <th>unique</th>\n",
       "      <td>NaN</td>\n",
       "      <td>1</td>\n",
       "      <td>52</td>\n",
       "      <td>149</td>\n",
       "      <td>190</td>\n",
       "      <td>253</td>\n",
       "      <td>1</td>\n",
       "      <td>1</td>\n",
       "      <td>NaN</td>\n",
       "      <td>NaN</td>\n",
       "    </tr>\n",
       "    <tr>\n",
       "      <th>top</th>\n",
       "      <td>NaN</td>\n",
       "      <td>2018-01-01</td>\n",
       "      <td>California</td>\n",
       "      <td>Los Angeles</td>\n",
       "      <td>Not in a city</td>\n",
       "      <td>Kapolei</td>\n",
       "      <td>Carbon monoxide</td>\n",
       "      <td>Parts per million</td>\n",
       "      <td>NaN</td>\n",
       "      <td>NaN</td>\n",
       "    </tr>\n",
       "    <tr>\n",
       "      <th>freq</th>\n",
       "      <td>NaN</td>\n",
       "      <td>260</td>\n",
       "      <td>66</td>\n",
       "      <td>14</td>\n",
       "      <td>21</td>\n",
       "      <td>2</td>\n",
       "      <td>260</td>\n",
       "      <td>260</td>\n",
       "      <td>NaN</td>\n",
       "      <td>NaN</td>\n",
       "    </tr>\n",
       "    <tr>\n",
       "      <th>mean</th>\n",
       "      <td>129.500000</td>\n",
       "      <td>NaN</td>\n",
       "      <td>NaN</td>\n",
       "      <td>NaN</td>\n",
       "      <td>NaN</td>\n",
       "      <td>NaN</td>\n",
       "      <td>NaN</td>\n",
       "      <td>NaN</td>\n",
       "      <td>0.403169</td>\n",
       "      <td>6.757692</td>\n",
       "    </tr>\n",
       "    <tr>\n",
       "      <th>std</th>\n",
       "      <td>75.199734</td>\n",
       "      <td>NaN</td>\n",
       "      <td>NaN</td>\n",
       "      <td>NaN</td>\n",
       "      <td>NaN</td>\n",
       "      <td>NaN</td>\n",
       "      <td>NaN</td>\n",
       "      <td>NaN</td>\n",
       "      <td>0.317902</td>\n",
       "      <td>7.061707</td>\n",
       "    </tr>\n",
       "    <tr>\n",
       "      <th>min</th>\n",
       "      <td>0.000000</td>\n",
       "      <td>NaN</td>\n",
       "      <td>NaN</td>\n",
       "      <td>NaN</td>\n",
       "      <td>NaN</td>\n",
       "      <td>NaN</td>\n",
       "      <td>NaN</td>\n",
       "      <td>NaN</td>\n",
       "      <td>0.000000</td>\n",
       "      <td>0.000000</td>\n",
       "    </tr>\n",
       "    <tr>\n",
       "      <th>25%</th>\n",
       "      <td>64.750000</td>\n",
       "      <td>NaN</td>\n",
       "      <td>NaN</td>\n",
       "      <td>NaN</td>\n",
       "      <td>NaN</td>\n",
       "      <td>NaN</td>\n",
       "      <td>NaN</td>\n",
       "      <td>NaN</td>\n",
       "      <td>0.200000</td>\n",
       "      <td>2.000000</td>\n",
       "    </tr>\n",
       "    <tr>\n",
       "      <th>50%</th>\n",
       "      <td>129.500000</td>\n",
       "      <td>NaN</td>\n",
       "      <td>NaN</td>\n",
       "      <td>NaN</td>\n",
       "      <td>NaN</td>\n",
       "      <td>NaN</td>\n",
       "      <td>NaN</td>\n",
       "      <td>NaN</td>\n",
       "      <td>0.276315</td>\n",
       "      <td>5.000000</td>\n",
       "    </tr>\n",
       "    <tr>\n",
       "      <th>75%</th>\n",
       "      <td>194.250000</td>\n",
       "      <td>NaN</td>\n",
       "      <td>NaN</td>\n",
       "      <td>NaN</td>\n",
       "      <td>NaN</td>\n",
       "      <td>NaN</td>\n",
       "      <td>NaN</td>\n",
       "      <td>NaN</td>\n",
       "      <td>0.516009</td>\n",
       "      <td>9.000000</td>\n",
       "    </tr>\n",
       "    <tr>\n",
       "      <th>max</th>\n",
       "      <td>259.000000</td>\n",
       "      <td>NaN</td>\n",
       "      <td>NaN</td>\n",
       "      <td>NaN</td>\n",
       "      <td>NaN</td>\n",
       "      <td>NaN</td>\n",
       "      <td>NaN</td>\n",
       "      <td>NaN</td>\n",
       "      <td>1.921053</td>\n",
       "      <td>50.000000</td>\n",
       "    </tr>\n",
       "  </tbody>\n",
       "</table>\n",
       "</div>"
      ],
      "text/plain": [
       "        Unnamed: 0  date_local  state_name  county_name      city_name  \\\n",
       "count   260.000000         260         260          260            260   \n",
       "unique         NaN           1          52          149            190   \n",
       "top            NaN  2018-01-01  California  Los Angeles  Not in a city   \n",
       "freq           NaN         260          66           14             21   \n",
       "mean    129.500000         NaN         NaN          NaN            NaN   \n",
       "std      75.199734         NaN         NaN          NaN            NaN   \n",
       "min       0.000000         NaN         NaN          NaN            NaN   \n",
       "25%      64.750000         NaN         NaN          NaN            NaN   \n",
       "50%     129.500000         NaN         NaN          NaN            NaN   \n",
       "75%     194.250000         NaN         NaN          NaN            NaN   \n",
       "max     259.000000         NaN         NaN          NaN            NaN   \n",
       "\n",
       "       local_site_name   parameter_name   units_of_measure  arithmetic_mean  \\\n",
       "count              257              260                260       260.000000   \n",
       "unique             253                1                  1              NaN   \n",
       "top            Kapolei  Carbon monoxide  Parts per million              NaN   \n",
       "freq                 2              260                260              NaN   \n",
       "mean               NaN              NaN                NaN         0.403169   \n",
       "std                NaN              NaN                NaN         0.317902   \n",
       "min                NaN              NaN                NaN         0.000000   \n",
       "25%                NaN              NaN                NaN         0.200000   \n",
       "50%                NaN              NaN                NaN         0.276315   \n",
       "75%                NaN              NaN                NaN         0.516009   \n",
       "max                NaN              NaN                NaN         1.921053   \n",
       "\n",
       "               aqi  \n",
       "count   260.000000  \n",
       "unique         NaN  \n",
       "top            NaN  \n",
       "freq           NaN  \n",
       "mean      6.757692  \n",
       "std       7.061707  \n",
       "min       0.000000  \n",
       "25%       2.000000  \n",
       "50%       5.000000  \n",
       "75%       9.000000  \n",
       "max      50.000000  "
      ]
     },
     "execution_count": 4,
     "metadata": {},
     "output_type": "execute_result"
    }
   ],
   "source": [
    "aqi.describe(include='all')"
   ]
  },
  {
   "cell_type": "code",
   "execution_count": 5,
   "id": "a37baee2-9273-4c28-813b-2ffda37d625c",
   "metadata": {},
   "outputs": [
    {
     "data": {
      "text/plain": [
       "state_name\n",
       "California              66\n",
       "Arizona                 14\n",
       "Ohio                    12\n",
       "Florida                 12\n",
       "Texas                   10\n",
       "New York                10\n",
       "Pennsylvania            10\n",
       "Michigan                 9\n",
       "Colorado                 9\n",
       "Minnesota                7\n",
       "New Jersey               6\n",
       "Indiana                  5\n",
       "North Carolina           4\n",
       "Massachusetts            4\n",
       "Maryland                 4\n",
       "Oklahoma                 4\n",
       "Virginia                 4\n",
       "Nevada                   4\n",
       "Connecticut              4\n",
       "Kentucky                 3\n",
       "Missouri                 3\n",
       "Wyoming                  3\n",
       "Iowa                     3\n",
       "Hawaii                   3\n",
       "Utah                     3\n",
       "Vermont                  3\n",
       "Illinois                 3\n",
       "New Hampshire            2\n",
       "District Of Columbia     2\n",
       "New Mexico               2\n",
       "Montana                  2\n",
       "Oregon                   2\n",
       "Alaska                   2\n",
       "Georgia                  2\n",
       "Washington               2\n",
       "Idaho                    2\n",
       "Nebraska                 2\n",
       "Rhode Island             2\n",
       "Tennessee                2\n",
       "Maine                    2\n",
       "South Carolina           1\n",
       "Puerto Rico              1\n",
       "Arkansas                 1\n",
       "Kansas                   1\n",
       "Mississippi              1\n",
       "Alabama                  1\n",
       "Louisiana                1\n",
       "Delaware                 1\n",
       "South Dakota             1\n",
       "West Virginia            1\n",
       "North Dakota             1\n",
       "Wisconsin                1\n",
       "Name: count, dtype: int64"
      ]
     },
     "execution_count": 5,
     "metadata": {},
     "output_type": "execute_result"
    }
   ],
   "source": [
    "aqi['state_name'].value_counts()"
   ]
  },
  {
   "cell_type": "markdown",
   "id": "934cbf66-06b1-45f8-928e-7bc60526e37d",
   "metadata": {},
   "source": [
    "1. What time range does this data cover?\n",
    "\n",
    "> *All of the sites collected data on January 1st, 2018.*\n",
    "\n",
    "2. What are the minimum and maximum AQI values observed in the dataset?\n",
    "\n",
    "> *The minimum AQI value is 0 and the maximum AQI value is 50.*\n",
    "\n",
    "3. Are all states equally represented in the dataset?\n",
    "\n",
    "> *No, all states are not equally represented. California has 66 sites that reported AQI for this dataset, while states such as Delaware and Alabama have only one site that reported AQI.*"
   ]
  },
  {
   "cell_type": "markdown",
   "id": "eb5539fa-285d-4496-bc16-627010a39560",
   "metadata": {},
   "source": [
    "#### Summarize the mean AQI for RRE states"
   ]
  },
  {
   "cell_type": "code",
   "execution_count": 6,
   "id": "6a397faa-eaf4-4df5-9c44-9c084aa6a0bd",
   "metadata": {},
   "outputs": [
    {
     "data": {
      "text/html": [
       "<div>\n",
       "<style scoped>\n",
       "    .dataframe tbody tr th:only-of-type {\n",
       "        vertical-align: middle;\n",
       "    }\n",
       "\n",
       "    .dataframe tbody tr th {\n",
       "        vertical-align: top;\n",
       "    }\n",
       "\n",
       "    .dataframe thead th {\n",
       "        text-align: right;\n",
       "    }\n",
       "</style>\n",
       "<table border=\"1\" class=\"dataframe\">\n",
       "  <thead>\n",
       "    <tr style=\"text-align: right;\">\n",
       "      <th></th>\n",
       "      <th>aqi</th>\n",
       "      <th>state_name</th>\n",
       "    </tr>\n",
       "    <tr>\n",
       "      <th>state_name</th>\n",
       "      <th></th>\n",
       "      <th></th>\n",
       "    </tr>\n",
       "  </thead>\n",
       "  <tbody>\n",
       "    <tr>\n",
       "      <th>California</th>\n",
       "      <td>12.121212</td>\n",
       "      <td>66</td>\n",
       "    </tr>\n",
       "    <tr>\n",
       "      <th>Florida</th>\n",
       "      <td>5.500000</td>\n",
       "      <td>12</td>\n",
       "    </tr>\n",
       "    <tr>\n",
       "      <th>Michigan</th>\n",
       "      <td>8.111111</td>\n",
       "      <td>9</td>\n",
       "    </tr>\n",
       "    <tr>\n",
       "      <th>Ohio</th>\n",
       "      <td>3.333333</td>\n",
       "      <td>12</td>\n",
       "    </tr>\n",
       "    <tr>\n",
       "      <th>Pennsylvania</th>\n",
       "      <td>2.900000</td>\n",
       "      <td>10</td>\n",
       "    </tr>\n",
       "    <tr>\n",
       "      <th>Texas</th>\n",
       "      <td>2.700000</td>\n",
       "      <td>10</td>\n",
       "    </tr>\n",
       "  </tbody>\n",
       "</table>\n",
       "</div>"
      ],
      "text/plain": [
       "                    aqi  state_name\n",
       "state_name                         \n",
       "California    12.121212          66\n",
       "Florida        5.500000          12\n",
       "Michigan       8.111111           9\n",
       "Ohio           3.333333          12\n",
       "Pennsylvania   2.900000          10\n",
       "Texas          2.700000          10"
      ]
     },
     "execution_count": 6,
     "metadata": {},
     "output_type": "execute_result"
    }
   ],
   "source": [
    "# Create a list of RRE states.\n",
    "rre_states = ['California', 'Florida', 'Michigan', 'Ohio', 'Pennsylvania', 'Texas']\n",
    "\n",
    "# Subset `aqi` to only consider these states.\n",
    "aqi_rre = aqi[aqi['state_name'].isin(rre_states)]\n",
    "\n",
    "# Find the mean aqi for each of the RRE states.\n",
    "aqi_rre.groupby(['state_name']).agg({'aqi':'mean','state_name':'count'})"
   ]
  },
  {
   "cell_type": "code",
   "execution_count": 7,
   "id": "74f1ef88-e48c-41e4-8a49-23ff4d475dd8",
   "metadata": {},
   "outputs": [
    {
     "data": {
      "text/plain": [
       "<Axes: xlabel='state_name', ylabel='aqi'>"
      ]
     },
     "execution_count": 7,
     "metadata": {},
     "output_type": "execute_result"
    },
    {
     "data": {
      "image/png": "[encoded data removed]",
      "text/plain": [
       "<Figure size 640x480 with 1 Axes>"
      ]
     },
     "metadata": {},
     "output_type": "display_data"
    }
   ],
   "source": [
    "# Boxplot\n",
    "sns.boxplot(x=aqi_rre['state_name'], y=aqi_rre['aqi'], data=aqi_rre, hue='state_name', palette='Set2')"
   ]
  },
  {
   "cell_type": "markdown",
   "id": "baff95d7-cc83-4055-ba0c-953d048bd3a5",
   "metadata": {},
   "source": [
    "Based on the data and visualization, which state(s) do we suspect will be most affected by this policy?\n",
    "\n",
    "> - California: The mean and a signficant portion of the boxplot range over 10.\n",
    "> - Michigan: While the mean is below 10, the boxplot ranges above 10."
   ]
  },
  {
   "cell_type": "markdown",
   "id": "ef87c35a-6e35-4750-9cc6-83902da9a059",
   "metadata": {},
   "source": [
    "#### Construct confidence intervals for California and Michigan"
   ]
  },
  {
   "cell_type": "markdown",
   "id": "bc621911-10dd-4bd5-a333-34a5e9d0adc0",
   "metadata": {},
   "source": [
    "**Confidence level:**\n",
    "\n",
    "95% is the confidence level."
   ]
  },
  {
   "cell_type": "code",
   "execution_count": 8,
   "id": "d19740ae-ae20-4642-841b-6b40650d22b9",
   "metadata": {},
   "outputs": [
    {
     "data": {
      "text/plain": [
       "(10.326342414715956, 13.916081827708286)"
      ]
     },
     "execution_count": 8,
     "metadata": {},
     "output_type": "execute_result"
    }
   ],
   "source": [
    "# Extract California AQI values\n",
    "aqi_ca = aqi[aqi['state_name'] == 'California']['aqi']\n",
    "\n",
    "# Calculate sample statistics\n",
    "n = len(aqi_ca)\n",
    "mean = np.mean(aqi_ca) \n",
    "std = np.std(aqi_ca, ddof=1)\n",
    "\n",
    "# Compute standard error\n",
    "se = std / np.sqrt(n)\n",
    "\n",
    "# Calculate t critical value for 95% CI\n",
    "alpha = 0.05\n",
    "t_crit = stats.t.ppf(1 - alpha/2, df=n-1)\n",
    "\n",
    "# Compute confidence interval\n",
    "ci_lower = mean - t_crit*se\n",
    "ci_upper = mean + t_crit*se\n",
    "(ci_lower, ci_upper)"
   ]
  },
  {
   "cell_type": "code",
   "execution_count": 9,
   "id": "fd331a98-04b7-4c7d-bfb9-63bda002468a",
   "metadata": {},
   "outputs": [
    {
     "data": {
      "text/plain": [
       "(5.60719797774288, 10.615024244479342)"
      ]
     },
     "execution_count": 9,
     "metadata": {},
     "output_type": "execute_result"
    }
   ],
   "source": [
    "# Extract Michigan AQI values\n",
    "aqi_mi = aqi[aqi['state_name'] == 'Michigan']['aqi']\n",
    "\n",
    "# Calculate sample statistics\n",
    "n = len(aqi_mi)\n",
    "mean = np.mean(aqi_mi) \n",
    "std = np.std(aqi_mi, ddof=1)\n",
    "\n",
    "# Compute standard error\n",
    "se = std / np.sqrt(n)\n",
    "\n",
    "# Calculate t critical value for 95% CI\n",
    "alpha = 0.05\n",
    "t_crit = stats.t.ppf(1 - alpha/2, df=n-1)\n",
    "\n",
    "# Compute confidence interval\n",
    "ci_lower = mean - t_crit*se\n",
    "ci_upper = mean + t_crit*se\n",
    "(ci_lower, ci_upper)"
   ]
  },
  {
   "cell_type": "markdown",
   "id": "0c076536-9e04-45cb-882b-ce6653bd5f4e",
   "metadata": {},
   "source": [
    "#### Key takeaways\n",
    "\n",
    "* Based on the mean AQI for RRE states, California and Michigan were most likely to have experienced a mean AQI above 10.\n",
    "* With California experiencing the highest sample mean AQI in the data, it appears to be the state most likely to be affected by the policy change.\n",
    "* Constructing confidence intervals allows us to estimate the population mean AQI with a specified level of confidence.  \n",
    "> * For California, the 95% confidence interval from the sample data yielded `[10.3, 13.9]`, indicating that there is a 95% confidence the population mean AQI for California falls within this range. Since the entire interval is above 10, this suggests that California exceeds the policy threshold.\n",
    "> * For Michigan, the 95% confidence interval was `[5.6, 10.6]`. Because this interval overlaps 10, we cannot conclude with confidence that Michigan’s population mean AQI is above the policy threshold, implying uncertainty about whether Michigan would be affected. "
   ]
  },
  {
   "cell_type": "markdown",
   "id": "81a1f0c6-482a-4e0a-bb4a-74f17e3876bf",
   "metadata": {},
   "source": [
    "## 2. Hypothesis testing"
   ]
  },
  {
   "cell_type": "markdown",
   "id": "0fc4c45c-d987-467d-a9d9-2dc0eb2fa152",
   "metadata": {},
   "source": [
    "### Introduction"
   ]
  },
  {
   "cell_type": "markdown",
   "id": "4df07ce7-dc92-43d0-9f50-015813f70449",
   "metadata": {},
   "source": [
    "In this case, we work for an environmental think tank called Repair Our Air (ROA). ROA is formulating policy recommendations to improve the air quality in America, using the Environmental Protection Agency's Air Quality Index (AQI) to guide their decision making. An AQI value close to 0 signals \"little to no\" public health concern, while higher values are associated with increased risk to public health.\n",
    "\n",
    "They've tasked us with leveraging AQI data to help them prioritize their strategy for improving air quality in America.\n",
    "\n",
    "ROA is considering the following decisions:\n",
    "> 1. ROA is considering a metropolitan-focused approach. Within California, they want to know if the mean AQI in Los Angeles County is higher than that of the rest of California.\n",
    "> 2. With limited resources, ROA has to choose between New York and Ohio for their next regional office. Does New York have a lower AQI than Ohio?\n",
    "> 3. A new policy will affect those states with a mean AQI of 10 or greater. Would Michigan be affected by this new policy?\n",
    "\n",
    "We will be working with the same dataset that gives AQI measurements by state over time."
   ]
  },
  {
   "cell_type": "code",
   "execution_count": 10,
   "id": "f5eb5d2d-1e26-4764-aa8f-27f8ac8d11bc",
   "metadata": {},
   "outputs": [],
   "source": [
    "# Read in the dataset\n",
    "aqi = pd.read_csv('c4_epa_air_quality.csv')"
   ]
  },
  {
   "cell_type": "markdown",
   "id": "8122e0f1-ce00-4a09-8df9-2c972d524c0b",
   "metadata": {},
   "source": [
    "#### Exploring the dataset"
   ]
  },
  {
   "cell_type": "code",
   "execution_count": 11,
   "id": "bc372843-0fbf-431d-845b-9a0f7c91e726",
   "metadata": {},
   "outputs": [
    {
     "data": {
      "text/html": [
       "<div>\n",
       "<style scoped>\n",
       "    .dataframe tbody tr th:only-of-type {\n",
       "        vertical-align: middle;\n",
       "    }\n",
       "\n",
       "    .dataframe tbody tr th {\n",
       "        vertical-align: top;\n",
       "    }\n",
       "\n",
       "    .dataframe thead th {\n",
       "        text-align: right;\n",
       "    }\n",
       "</style>\n",
       "<table border=\"1\" class=\"dataframe\">\n",
       "  <thead>\n",
       "    <tr style=\"text-align: right;\">\n",
       "      <th></th>\n",
       "      <th>Unnamed: 0</th>\n",
       "      <th>date_local</th>\n",
       "      <th>state_name</th>\n",
       "      <th>county_name</th>\n",
       "      <th>city_name</th>\n",
       "      <th>local_site_name</th>\n",
       "      <th>parameter_name</th>\n",
       "      <th>units_of_measure</th>\n",
       "      <th>arithmetic_mean</th>\n",
       "      <th>aqi</th>\n",
       "    </tr>\n",
       "  </thead>\n",
       "  <tbody>\n",
       "    <tr>\n",
       "      <th>0</th>\n",
       "      <td>0</td>\n",
       "      <td>2018-01-01</td>\n",
       "      <td>Arizona</td>\n",
       "      <td>Maricopa</td>\n",
       "      <td>Buckeye</td>\n",
       "      <td>BUCKEYE</td>\n",
       "      <td>Carbon monoxide</td>\n",
       "      <td>Parts per million</td>\n",
       "      <td>0.473684</td>\n",
       "      <td>7</td>\n",
       "    </tr>\n",
       "    <tr>\n",
       "      <th>1</th>\n",
       "      <td>1</td>\n",
       "      <td>2018-01-01</td>\n",
       "      <td>Ohio</td>\n",
       "      <td>Belmont</td>\n",
       "      <td>Shadyside</td>\n",
       "      <td>Shadyside</td>\n",
       "      <td>Carbon monoxide</td>\n",
       "      <td>Parts per million</td>\n",
       "      <td>0.263158</td>\n",
       "      <td>5</td>\n",
       "    </tr>\n",
       "    <tr>\n",
       "      <th>2</th>\n",
       "      <td>2</td>\n",
       "      <td>2018-01-01</td>\n",
       "      <td>Wyoming</td>\n",
       "      <td>Teton</td>\n",
       "      <td>Not in a city</td>\n",
       "      <td>Yellowstone National Park - Old Faithful Snow ...</td>\n",
       "      <td>Carbon monoxide</td>\n",
       "      <td>Parts per million</td>\n",
       "      <td>0.111111</td>\n",
       "      <td>2</td>\n",
       "    </tr>\n",
       "    <tr>\n",
       "      <th>3</th>\n",
       "      <td>3</td>\n",
       "      <td>2018-01-01</td>\n",
       "      <td>Pennsylvania</td>\n",
       "      <td>Philadelphia</td>\n",
       "      <td>Philadelphia</td>\n",
       "      <td>North East Waste (NEW)</td>\n",
       "      <td>Carbon monoxide</td>\n",
       "      <td>Parts per million</td>\n",
       "      <td>0.300000</td>\n",
       "      <td>3</td>\n",
       "    </tr>\n",
       "    <tr>\n",
       "      <th>4</th>\n",
       "      <td>4</td>\n",
       "      <td>2018-01-01</td>\n",
       "      <td>Iowa</td>\n",
       "      <td>Polk</td>\n",
       "      <td>Des Moines</td>\n",
       "      <td>CARPENTER</td>\n",
       "      <td>Carbon monoxide</td>\n",
       "      <td>Parts per million</td>\n",
       "      <td>0.215789</td>\n",
       "      <td>3</td>\n",
       "    </tr>\n",
       "  </tbody>\n",
       "</table>\n",
       "</div>"
      ],
      "text/plain": [
       "   Unnamed: 0  date_local    state_name   county_name      city_name  \\\n",
       "0           0  2018-01-01       Arizona      Maricopa        Buckeye   \n",
       "1           1  2018-01-01          Ohio       Belmont      Shadyside   \n",
       "2           2  2018-01-01       Wyoming         Teton  Not in a city   \n",
       "3           3  2018-01-01  Pennsylvania  Philadelphia   Philadelphia   \n",
       "4           4  2018-01-01          Iowa          Polk     Des Moines   \n",
       "\n",
       "                                     local_site_name   parameter_name  \\\n",
       "0                                            BUCKEYE  Carbon monoxide   \n",
       "1                                          Shadyside  Carbon monoxide   \n",
       "2  Yellowstone National Park - Old Faithful Snow ...  Carbon monoxide   \n",
       "3                             North East Waste (NEW)  Carbon monoxide   \n",
       "4                                          CARPENTER  Carbon monoxide   \n",
       "\n",
       "    units_of_measure  arithmetic_mean  aqi  \n",
       "0  Parts per million         0.473684    7  \n",
       "1  Parts per million         0.263158    5  \n",
       "2  Parts per million         0.111111    2  \n",
       "3  Parts per million         0.300000    3  \n",
       "4  Parts per million         0.215789    3  "
      ]
     },
     "execution_count": 11,
     "metadata": {},
     "output_type": "execute_result"
    }
   ],
   "source": [
    "aqi.head()"
   ]
  },
  {
   "cell_type": "code",
   "execution_count": 12,
   "id": "b63292ef-82e8-48cb-93c3-b6910215e7b0",
   "metadata": {},
   "outputs": [
    {
     "name": "stdout",
     "output_type": "stream",
     "text": [
      "        Unnamed: 0  date_local  state_name  county_name      city_name  \\\n",
      "count   260.000000         260         260          260            260   \n",
      "unique         NaN           1          52          149            190   \n",
      "top            NaN  2018-01-01  California  Los Angeles  Not in a city   \n",
      "freq           NaN         260          66           14             21   \n",
      "mean    129.500000         NaN         NaN          NaN            NaN   \n",
      "std      75.199734         NaN         NaN          NaN            NaN   \n",
      "min       0.000000         NaN         NaN          NaN            NaN   \n",
      "25%      64.750000         NaN         NaN          NaN            NaN   \n",
      "50%     129.500000         NaN         NaN          NaN            NaN   \n",
      "75%     194.250000         NaN         NaN          NaN            NaN   \n",
      "max     259.000000         NaN         NaN          NaN            NaN   \n",
      "\n",
      "       local_site_name   parameter_name   units_of_measure  arithmetic_mean  \\\n",
      "count              257              260                260       260.000000   \n",
      "unique             253                1                  1              NaN   \n",
      "top            Kapolei  Carbon monoxide  Parts per million              NaN   \n",
      "freq                 2              260                260              NaN   \n",
      "mean               NaN              NaN                NaN         0.403169   \n",
      "std                NaN              NaN                NaN         0.317902   \n",
      "min                NaN              NaN                NaN         0.000000   \n",
      "25%                NaN              NaN                NaN         0.200000   \n",
      "50%                NaN              NaN                NaN         0.276315   \n",
      "75%                NaN              NaN                NaN         0.516009   \n",
      "max                NaN              NaN                NaN         1.921053   \n",
      "\n",
      "               aqi  \n",
      "count   260.000000  \n",
      "unique         NaN  \n",
      "top            NaN  \n",
      "freq           NaN  \n",
      "mean      6.757692  \n",
      "std       7.061707  \n",
      "min       0.000000  \n",
      "25%       2.000000  \n",
      "50%       5.000000  \n",
      "75%       9.000000  \n",
      "max      50.000000  \n"
     ]
    }
   ],
   "source": [
    "print(aqi.describe(include='all'))"
   ]
  },
  {
   "cell_type": "code",
   "execution_count": 13,
   "id": "0d4474d6-1658-453f-a17b-cf78d6b18ef3",
   "metadata": {},
   "outputs": [
    {
     "name": "stdout",
     "output_type": "stream",
     "text": [
      "state_name\n",
      "California              66\n",
      "Arizona                 14\n",
      "Ohio                    12\n",
      "Florida                 12\n",
      "Texas                   10\n",
      "New York                10\n",
      "Pennsylvania            10\n",
      "Michigan                 9\n",
      "Colorado                 9\n",
      "Minnesota                7\n",
      "New Jersey               6\n",
      "Indiana                  5\n",
      "North Carolina           4\n",
      "Massachusetts            4\n",
      "Maryland                 4\n",
      "Oklahoma                 4\n",
      "Virginia                 4\n",
      "Nevada                   4\n",
      "Connecticut              4\n",
      "Kentucky                 3\n",
      "Missouri                 3\n",
      "Wyoming                  3\n",
      "Iowa                     3\n",
      "Hawaii                   3\n",
      "Utah                     3\n",
      "Vermont                  3\n",
      "Illinois                 3\n",
      "New Hampshire            2\n",
      "District Of Columbia     2\n",
      "New Mexico               2\n",
      "Montana                  2\n",
      "Oregon                   2\n",
      "Alaska                   2\n",
      "Georgia                  2\n",
      "Washington               2\n",
      "Idaho                    2\n",
      "Nebraska                 2\n",
      "Rhode Island             2\n",
      "Tennessee                2\n",
      "Maine                    2\n",
      "South Carolina           1\n",
      "Puerto Rico              1\n",
      "Arkansas                 1\n",
      "Kansas                   1\n",
      "Mississippi              1\n",
      "Alabama                  1\n",
      "Louisiana                1\n",
      "Delaware                 1\n",
      "South Dakota             1\n",
      "West Virginia            1\n",
      "North Dakota             1\n",
      "Wisconsin                1\n",
      "Name: count, dtype: int64\n"
     ]
    }
   ],
   "source": [
    "print(aqi['state_name'].value_counts())"
   ]
  },
  {
   "cell_type": "markdown",
   "id": "c7fbf3d8-76c2-4f53-b5db-ef4a18f26eea",
   "metadata": {},
   "source": [
    "From the data exploration, what do we recognize?\n",
    "\n",
    "> - *We have county-level data for testing the first hypothesis.*\n",
    "> - *Ohio, New York, and Michigan all have a relatively higher number of observations than most other states, which is useful for testing the second and third hypotheses.*"
   ]
  },
  {
   "cell_type": "markdown",
   "id": "b7cb2973-b294-4c86-90ce-bd711677ef5a",
   "metadata": {},
   "source": [
    "#### Hypothesis testing"
   ]
  },
  {
   "cell_type": "markdown",
   "id": "a26b7e7d-e8af-4067-9a08-0f935a8985f8",
   "metadata": {},
   "source": [
    "**Hypothesis 1:** \"ROA is considering a metropolitan-focused approach. Within California, they want to know if the mean AQI in Los Angeles County is higher than that of the rest of California.\"\n",
    "\n",
    "* $H_0$: The mean AQI in Los Angeles County is less than or equal to the mean AQI in the rest of California.\n",
    "* $H_A$: The mean AQI in Los Angeles County is greater than the mean AQI in the rest of California."
   ]
  },
  {
   "cell_type": "code",
   "execution_count": 14,
   "id": "0e706aa0-9bfa-4510-8083-dd9053036fce",
   "metadata": {},
   "outputs": [],
   "source": [
    "# Create dataframes for each sample being compared in the test\n",
    "ca_la = aqi[aqi['county_name'] == 'Los Angeles']\n",
    "ca_other = aqi[(aqi['state_name'] == 'California') & (aqi['county_name'] != 'Los Angeles')]"
   ]
  },
  {
   "cell_type": "code",
   "execution_count": 15,
   "id": "91f0b01d-08db-45c3-ba83-e1faf1043a74",
   "metadata": {},
   "outputs": [
    {
     "data": {
      "text/plain": [
       "TtestResult(statistic=2.1107010796372014, pvalue=0.024919528421205497, df=17.08246830361151)"
      ]
     },
     "execution_count": 15,
     "metadata": {},
     "output_type": "execute_result"
    }
   ],
   "source": [
    "# Perform the t-test\n",
    "stats.ttest_ind(a=ca_la['aqi'], b=ca_other['aqi'], equal_var=False, alternative='greater')"
   ]
  },
  {
   "cell_type": "markdown",
   "id": "af258716-c06d-4ff3-ad5e-65dcbd192968",
   "metadata": {},
   "source": [
    "Based on the p-value we got above, do we reject or fail to reject the null hypothesis?\n",
    "\n",
    "> *Since the p-value (0.02) is smaller than the chosen significance level (0.05), we reject the null hypothesis. This provides statistically significant evidence that the mean AQI in Los Angeles County is higher than in the rest of California, suggesting that a metropolitan-focused strategy may be appropriate.*"
   ]
  },
  {
   "cell_type": "markdown",
   "id": "cf3c598c-c98b-4da5-af17-251896dec27b",
   "metadata": {},
   "source": [
    "**Hypothesis 2:** \"With limited resources, ROA has to choose between New York and Ohio for their next regional office. Does New York have a lower AQI than Ohio?\"\n",
    "\n",
    "* $H_0$: The mean AQI of New York is greater than or equal to that of Ohio.\n",
    "* $H_A$: The mean AQI of New York is below that of Ohio."
   ]
  },
  {
   "cell_type": "code",
   "execution_count": 16,
   "id": "776c6ba9-42c9-4a39-8e32-a2597550dba4",
   "metadata": {},
   "outputs": [],
   "source": [
    "# Create dataframes for each sample being compared in the test\n",
    "ny = aqi[aqi['state_name'] == 'New York']\n",
    "ohio = aqi[aqi['state_name'] == 'Ohio']"
   ]
  },
  {
   "cell_type": "code",
   "execution_count": 17,
   "id": "066989ab-a985-417e-98a0-ed864a3b6707",
   "metadata": {},
   "outputs": [
    {
     "data": {
      "text/plain": [
       "TtestResult(statistic=-2.025951038880333, pvalue=0.03044650269193468, df=15.036745051598716)"
      ]
     },
     "execution_count": 17,
     "metadata": {},
     "output_type": "execute_result"
    }
   ],
   "source": [
    "# Perform the t-test\n",
    "stats.ttest_ind(a=ny['aqi'], b=ohio['aqi'], equal_var=False, alternative='less')"
   ]
  },
  {
   "cell_type": "markdown",
   "id": "7e6a5e15-c21c-4d13-9079-732d7a736be8",
   "metadata": {},
   "source": [
    "Based on the p-value we got above, do we reject or fail to reject the null hypothesis?\n",
    "\n",
    "> *Since the p-value (0.03) is smaller than the chosen significance level (0.05), we reject the null hypothesis. This provides statistically significant evidence that the mean AQI in New York is lower than in Ohio, suggesting that New York would be the more favorable location for ROA’s next regional office if being in a healthier environment is a key factor in the decision.*"
   ]
  },
  {
   "cell_type": "markdown",
   "id": "15fbca24-d9d6-4b4b-9e6f-cbd62bbb40b9",
   "metadata": {},
   "source": [
    "**Hypothesis 3:** \"A new policy will affect those states with a mean AQI of 10 or greater. Will Michigan be affected by this new policy?\"\n",
    "\n",
    "* $H_0$: The mean AQI of Michigan is less than or equal to 10.\n",
    "* $H_A$: The mean AQI of Michigan is greater than 10."
   ]
  },
  {
   "cell_type": "code",
   "execution_count": 18,
   "id": "132f8538-5f8d-47e6-8663-c35a1b724d8c",
   "metadata": {},
   "outputs": [],
   "source": [
    "# Create dataframes for each sample being compared in the test\n",
    "michigan = aqi[aqi['state_name'] == 'Michigan']"
   ]
  },
  {
   "cell_type": "code",
   "execution_count": 19,
   "id": "3a9fc8f1-c879-44b2-bdff-183f02631d6a",
   "metadata": {},
   "outputs": [
    {
     "data": {
      "text/plain": [
       "TtestResult(statistic=-1.7395913343286131, pvalue=0.9399405193140109, df=8)"
      ]
     },
     "execution_count": 19,
     "metadata": {},
     "output_type": "execute_result"
    }
   ],
   "source": [
    "# Perform the t-test\n",
    "stats.ttest_1samp(michigan['aqi'], 10, alternative='greater')"
   ]
  },
  {
   "cell_type": "markdown",
   "id": "f386d3f7-fc4f-4b5e-82c0-315c449dd159",
   "metadata": {},
   "source": [
    "Based on the p-value we got above, do we reject or fail to reject the null hypothesis?\n",
    "\n",
    "> *Since the p-value (0.94) is larger than the chosen significance level (0.05), we fail to reject the null hypothesis. This means there is no statistically significant evidence that the mean AQI in Michigan is greater than 10, implying that Michigan would most likely not be affected by the new policty.*"
   ]
  },
  {
   "cell_type": "markdown",
   "id": "836c7857-d4d2-40ad-a35a-cdbac7b1d787",
   "metadata": {},
   "source": [
    "#### Key takeaways\n",
    "\n",
    "* Even with small sample sizes, the variation within the data is enough to allow us to make statistically significant conclusions.\n",
    "* At the 5% significance level:\n",
    "> * The mean AQI in Los Angeles County was found to be statistically higher than the mean AQI in the rest of California.  \n",
    "> * New York was shown to have a statistically lower mean AQI than Ohio.  \n",
    "> * We were unable to conclude that Michigan’s mean AQI was greater than 10. "
   ]
  },
  {
   "cell_type": "markdown",
   "id": "7a935718-1a20-4fca-8daf-c7284248b879",
   "metadata": {},
   "source": [
    "# END"
   ]
  }
 ],
 "metadata": {
  "kernelspec": {
   "display_name": "Python 3 (ipykernel)",
   "language": "python",
   "name": "python3"
  },
  "language_info": {
   "codemirror_mode": {
    "name": "ipython",
    "version": 3
   },
   "file_extension": ".py",
   "mimetype": "text/x-python",
   "name": "python",
   "nbconvert_exporter": "python",
   "pygments_lexer": "ipython3",
   "version": "3.10.17"
  }
 },
 "nbformat": 4,
 "nbformat_minor": 5
}
